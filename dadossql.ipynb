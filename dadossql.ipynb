{
 "cells": [
  {
   "cell_type": "code",
   "execution_count": 6,
   "metadata": {},
   "outputs": [],
   "source": [
    "import mysql.connector "
   ]
  },
  {
   "cell_type": "code",
   "execution_count": null,
   "metadata": {},
   "outputs": [],
   "source": []
  },
  {
   "cell_type": "code",
   "execution_count": 7,
   "metadata": {},
   "outputs": [],
   "source": [
    "import pandas as pd"
   ]
  },
  {
   "cell_type": "code",
   "execution_count": 10,
   "metadata": {},
   "outputs": [],
   "source": [
    "conexao = mysql.connector.connect(\n",
    "    host='localhost',\n",
    "    user='root',\n",
    "    password='mysql',\n",
    "    database='embraer'\n",
    ")"
   ]
  },
  {
   "cell_type": "code",
   "execution_count": 11,
   "metadata": {},
   "outputs": [],
   "source": [
    "cursor = conexao.cursor()"
   ]
  },
  {
   "cell_type": "code",
   "execution_count": 13,
   "metadata": {},
   "outputs": [],
   "source": [
    "nome_tabela = 'teamusa'\n",
    "consulta_sql = f'SELECT * FROM {nome_tabela}'\n",
    "cursor.execute(consulta_sql)"
   ]
  },
  {
   "cell_type": "code",
   "execution_count": 14,
   "metadata": {},
   "outputs": [
    {
     "ename": "TypeError",
     "evalue": "DataFrame.__init__() got an unexpected keyword argument 'colums'",
     "output_type": "error",
     "traceback": [
      "\u001b[1;31m---------------------------------------------------------------------------\u001b[0m",
      "\u001b[1;31mTypeError\u001b[0m                                 Traceback (most recent call last)",
      "\u001b[1;32mc:\\Users\\Loren Nascimento\\OneDrive\\Área de Trabalho\\Aula1\\dadossql.ipynb Cell 6\u001b[0m line \u001b[0;36m3\n\u001b[0;32m      <a href='vscode-notebook-cell:/c%3A/Users/Loren%20Nascimento/OneDrive/%C3%81rea%20de%20Trabalho/Aula1/dadossql.ipynb#W5sZmlsZQ%3D%3D?line=0'>1</a>\u001b[0m dados \u001b[39m=\u001b[39m cursor\u001b[39m.\u001b[39mfetchall()\n\u001b[0;32m      <a href='vscode-notebook-cell:/c%3A/Users/Loren%20Nascimento/OneDrive/%C3%81rea%20de%20Trabalho/Aula1/dadossql.ipynb#W5sZmlsZQ%3D%3D?line=1'>2</a>\u001b[0m colunas \u001b[39m=\u001b[39m [i[\u001b[39m0\u001b[39m] \u001b[39mfor\u001b[39;00m i \u001b[39min\u001b[39;00m cursor\u001b[39m.\u001b[39mdescription]\n\u001b[1;32m----> <a href='vscode-notebook-cell:/c%3A/Users/Loren%20Nascimento/OneDrive/%C3%81rea%20de%20Trabalho/Aula1/dadossql.ipynb#W5sZmlsZQ%3D%3D?line=2'>3</a>\u001b[0m df \u001b[39m=\u001b[39m pd\u001b[39m.\u001b[39;49mDataFrame(dados, colums\u001b[39m=\u001b[39;49mcolunas)\n\u001b[0;32m      <a href='vscode-notebook-cell:/c%3A/Users/Loren%20Nascimento/OneDrive/%C3%81rea%20de%20Trabalho/Aula1/dadossql.ipynb#W5sZmlsZQ%3D%3D?line=3'>4</a>\u001b[0m cursor\u001b[39m.\u001b[39mclose()\n\u001b[0;32m      <a href='vscode-notebook-cell:/c%3A/Users/Loren%20Nascimento/OneDrive/%C3%81rea%20de%20Trabalho/Aula1/dadossql.ipynb#W5sZmlsZQ%3D%3D?line=4'>5</a>\u001b[0m conexao\u001b[39m.\u001b[39mclose\n",
      "\u001b[1;31mTypeError\u001b[0m: DataFrame.__init__() got an unexpected keyword argument 'colums'"
     ]
    }
   ],
   "source": [
    "dados = cursor.fetchall()\n",
    "colunas = [i[0] for i in cursor.description]\n",
    "df = pd.DataFrame(dados, colums=colunas)\n",
    "cursor.close()\n",
    "conexao.close\n",
    "print(df)"
   ]
  }
 ],
 "metadata": {
  "kernelspec": {
   "display_name": "Python 3",
   "language": "python",
   "name": "python3"
  },
  "language_info": {
   "codemirror_mode": {
    "name": "ipython",
    "version": 3
   },
   "file_extension": ".py",
   "mimetype": "text/x-python",
   "name": "python",
   "nbconvert_exporter": "python",
   "pygments_lexer": "ipython3",
   "version": "3.12.0"
  }
 },
 "nbformat": 4,
 "nbformat_minor": 2
}
